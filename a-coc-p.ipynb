{
 "cells": [
  {
   "cell_type": "code",
   "execution_count": 127,
   "metadata": {},
   "outputs": [],
   "source": [
    "import os\n",
    "import shutil\n",
    "import numpy as np"
   ]
  },
  {
   "cell_type": "code",
   "execution_count": 3,
   "metadata": {},
   "outputs": [],
   "source": [
    "import parmed as pmd"
   ]
  },
  {
   "cell_type": "code",
   "execution_count": 138,
   "metadata": {},
   "outputs": [],
   "source": [
    "import paprika\n",
    "from paprika import align\n",
    "from paprika import dummy\n",
    "from paprika import tleap\n",
    "\n",
    "from paprika.restraints import static_DAT_restraint\n",
    "from paprika.restraints import DAT_restraint\n",
    "\n",
    "from paprika.tleap import System"
   ]
  },
  {
   "cell_type": "markdown",
   "metadata": {},
   "source": [
    "# pAPRika\n",
    "\n",
    "Here is a basic outline of how to perform a host-guest binding free energy calculation using pAPRika as an interface for the attach-pull-release workflow.\n",
    "\n",
    "To run a calculation, we need a few things:\n",
    "- Structure of the host and guest,\n",
    "- Separate `mol2` files for the host and guest,\n",
    "- Any `frcmod` files that have non-standard force field parameters,\n",
    "- Three atoms on the host and two atoms on the guest, to act as anchors."
   ]
  },
  {
   "cell_type": "markdown",
   "metadata": {},
   "source": [
    "## Prepare the host-guest complex by aligning and adding dummy atoms."
   ]
  },
  {
   "cell_type": "code",
   "execution_count": 14,
   "metadata": {},
   "outputs": [],
   "source": [
    "structure = pmd.load_file(\"complex/a-coc-p.pdb\", structure=True)"
   ]
  },
  {
   "cell_type": "markdown",
   "metadata": {},
   "source": [
    "We are going to align the structure so that the two guest atoms are along the z axis."
   ]
  },
  {
   "cell_type": "code",
   "execution_count": 15,
   "metadata": {},
   "outputs": [
    {
     "name": "stderr",
     "output_type": "stream",
     "text": [
      "/home/dslochower/hgst-3tb-data/projects/pAPRika/paprika/align.py:31: RuntimeWarning: invalid value encountered in true_divide\n",
      "  x     = np.cross(mask2_com, axis) / np.linalg.norm(np.cross(mask2_com, axis))\n"
     ]
    }
   ],
   "source": [
    "structure = align.zalign(system, \":COC@C1\", \":COC@O1\", save=True, filename=\"complex/aligned.pdb\")"
   ]
  },
  {
   "cell_type": "code",
   "execution_count": 16,
   "metadata": {},
   "outputs": [],
   "source": [
    "structure = pmd.load_file(\"complex/aligned.pdb\", structure=True)"
   ]
  },
  {
   "cell_type": "code",
   "execution_count": 17,
   "metadata": {},
   "outputs": [],
   "source": [
    "structure = dummy.add_dummy(system, residue_name=\"DM1\", z=-6.000)\n",
    "structure = dummy.add_dummy(system, residue_name=\"DM2\", z=-9.000)\n",
    "structure = dummy.add_dummy(system, residue_name=\"DM3\", z=-11.200, y=2.200)"
   ]
  },
  {
   "cell_type": "code",
   "execution_count": 18,
   "metadata": {},
   "outputs": [],
   "source": [
    "structure.write_pdb(\"complex/aligned_with_dummy.pdb\")"
   ]
  },
  {
   "cell_type": "markdown",
   "metadata": {},
   "source": [
    "![](images/aligned_with_dummy_top.png)"
   ]
  },
  {
   "cell_type": "markdown",
   "metadata": {},
   "source": [
    "![](images/aligned_with_dummy_side.png)"
   ]
  },
  {
   "cell_type": "markdown",
   "metadata": {},
   "source": [
    "# Create AMBER parameter files for the aligned system\n",
    "\n",
    "First, we write a `mol2` file and `frmod` for the dummy atoms. Then, we write a template for `tleap` to create a `prmtop` and `inpcrd` for the structure using the relevant `leaprc` files."
   ]
  },
  {
   "cell_type": "code",
   "execution_count": 22,
   "metadata": {},
   "outputs": [],
   "source": [
    "dummy.write_dummy_frcmod(filepath=\"complex/dummy.frcmod\")"
   ]
  },
  {
   "cell_type": "code",
   "execution_count": 24,
   "metadata": {},
   "outputs": [],
   "source": [
    "dummy.write_dummy_mol2(residue_name=\"DM1\", filepath=\"complex/dm1.mol2\")\n",
    "dummy.write_dummy_mol2(residue_name=\"DM2\", filepath=\"complex/dm2.mol2\")\n",
    "dummy.write_dummy_mol2(residue_name=\"DM3\", filepath=\"complex/dm3.mol2\")"
   ]
  },
  {
   "cell_type": "markdown",
   "metadata": {},
   "source": [
    "At the moment, it is easier to build the complex with `tleap` outside of `paprika`, inside the `complex` directory."
   ]
  },
  {
   "cell_type": "code",
   "execution_count": 4,
   "metadata": {},
   "outputs": [
    {
     "name": "stdout",
     "output_type": "stream",
     "text": [
      "\n",
      "source CD-leaprc\n",
      "source leaprc.gaff\n",
      "loadamberparams dummy.frcmod\n",
      "COC = loadmol2 coc.mol2\n",
      "DM1 = loadmol2 dm1.mol2\n",
      "DM2 = loadmol2 dm2.mol2\n",
      "DM3 = loadmol2 dm3.mol2\n",
      "complex = loadpdb aligned_with_dummy.pdb\n",
      "\n",
      "desc complex\n",
      "saveamberparm complex aligned_with_dummy.prmtop aligned_with_dummy.rst7\n",
      "\n",
      "quit\n"
     ]
    }
   ],
   "source": [
    "! cat complex/build-complex.tleap.in"
   ]
  },
  {
   "cell_type": "markdown",
   "metadata": {},
   "source": [
    "First, we we will add the restraints. Based on the restraints, pAPRika will determine the number of windows in each phase of the calculation. We will then create the necessary directories, and solvate each structure separately. "
   ]
  },
  {
   "cell_type": "markdown",
   "metadata": {},
   "source": [
    "## Restraints"
   ]
  },
  {
   "cell_type": "markdown",
   "metadata": {},
   "source": [
    "In this calculation, I will setup four types of restraints.\n",
    "- Static restraints: these six restraints keep the host and in the proper orientation during the simulation (**necessary**),\n",
    "- Guest restraints: these restraints pull the guest away from the host along the z axis (**necessary**),\n",
    "- Conformational restraints: these restraints alter the conformational sampling of the host molecule (**optional**), and\n",
    "- Wall restraints: these restraints help define the bound state of the guest (**optional**).\n",
    "\n",
    "More details on the can be found in the Computational Calorimetry paper. The first second static restraint limits the distance between the dummy atoms and the host. The second state restraint, restrains the angle the host atom can make with two dummy atoms. And so on.\n",
    "\n",
    "\n",
    "      .DM3                 ####H2\n",
    "           .DM2   .DM1     H1    G1####G2   -----> z-axis\n",
    "                           ####H3\n",
    "\n",
    "\n",
    "\n",
    "To facilitate setting up the restraints, I'm going to make a shorthand `dict` for the anchor atoms. The host anchor atoms should be heavy atoms that are distributed around the binding cavity. The guest anchor atoms should be heavy atoms that are aligned along the $z$ axis."
   ]
  },
  {
   "cell_type": "code",
   "execution_count": 106,
   "metadata": {},
   "outputs": [],
   "source": [
    "    anchor_atoms = {\n",
    "        \"D1\": f\":DM1\",\n",
    "        \"D2\": f\":DM2\",\n",
    "        \"D3\": f\":DM3\",\n",
    "        \"H1\": f\":1@O3\",\n",
    "        \"H2\": f\":3@C1\",\n",
    "        \"H3\": f\":5@C6\",\n",
    "        \"G1\": f\":7@C1\",\n",
    "        \"G2\": f\":7@O1\",\n",
    "    }\n"
   ]
  },
  {
   "cell_type": "code",
   "execution_count": 107,
   "metadata": {},
   "outputs": [],
   "source": [
    "structure = pmd.load_file(\"complex/aligned_with_dummy.prmtop\",\n",
    "                    \"complex/aligned_with_dummy.rst7\",\n",
    "                    structure = True)"
   ]
  },
  {
   "cell_type": "code",
   "execution_count": 108,
   "metadata": {},
   "outputs": [],
   "source": [
    "def setup_static_restraints(\n",
    "    anchor_atoms, windows, structure, distance_fc=5.0, angle_fc=100.0\n",
    "):\n",
    "    static_restraints = []\n",
    "    static_restraint_atoms = [\n",
    "        [anchor_atoms[\"D1\"], anchor_atoms[\"H1\"]],\n",
    "        [anchor_atoms[\"D2\"], anchor_atoms[\"D1\"], anchor_atoms[\"H1\"]],\n",
    "        [anchor_atoms[\"D1\"], anchor_atoms[\"H1\"], anchor_atoms[\"H2\"]],\n",
    "        [\n",
    "            anchor_atoms[\"D3\"],\n",
    "            anchor_atoms[\"D2\"],\n",
    "            anchor_atoms[\"D1\"],\n",
    "            anchor_atoms[\"H1\"],\n",
    "        ],\n",
    "        [\n",
    "            anchor_atoms[\"D2\"],\n",
    "            anchor_atoms[\"D1\"],\n",
    "            anchor_atoms[\"H1\"],\n",
    "            anchor_atoms[\"H2\"],\n",
    "        ],\n",
    "        [\n",
    "            anchor_atoms[\"D1\"],\n",
    "            anchor_atoms[\"H1\"],\n",
    "            anchor_atoms[\"H2\"],\n",
    "            anchor_atoms[\"H3\"],\n",
    "        ],\n",
    "    ]\n",
    "\n",
    "    for index, atoms in enumerate(static_restraint_atoms):\n",
    "        if len(atoms) > 2:\n",
    "            fc = angle_fc\n",
    "        else:\n",
    "            fc = distance_fc\n",
    "        print(f\"Applying static restraint on atoms {atoms} with force constant = {fc} (units depend on whether this is angle or distane.)\")\n",
    "        \n",
    "        this = static_DAT_restraint(\n",
    "            restraint_mask_list=atoms,\n",
    "            num_window_list=windows,\n",
    "            ref_structure=structure,\n",
    "            force_constant=fc,\n",
    "            amber_index=True,\n",
    "        )\n",
    "\n",
    "        static_restraints.append(this)\n",
    "    return static_restraints\n"
   ]
  },
  {
   "cell_type": "markdown",
   "metadata": {},
   "source": [
    "I'm short in time so I'm skipping the commentary.\n",
    "\n",
    "Next are the guest restraints. These do the \"pulling.\""
   ]
  },
  {
   "cell_type": "code",
   "execution_count": 109,
   "metadata": {},
   "outputs": [],
   "source": [
    "def setup_guest_restraints(\n",
    "    anchor_atoms,\n",
    "    windows,\n",
    "    structure,\n",
    "    distance_fc=5.0,\n",
    "    angle_fc=100.0,\n",
    "    pull_initial=6.0,\n",
    "    pull_final=24.0,\n",
    "):\n",
    "    guest_restraints = []\n",
    "\n",
    "    guest_restraint_atoms = [\n",
    "        [anchor_atoms[\"D1\"], anchor_atoms[\"G1\"]],\n",
    "        [anchor_atoms[\"G2\"], anchor_atoms[\"D1\"], anchor_atoms[\"G1\"]],\n",
    "        [anchor_atoms[\"D1\"], anchor_atoms[\"G1\"], anchor_atoms[\"G2\"]],\n",
    "    ]\n",
    "    guest_restraint_targets = {\n",
    "        \"initial\": [pull_initial, 180.0, 180.0],\n",
    "        \"final\": [pull_final, 180.0, 180.0],\n",
    "    }\n",
    "\n",
    "    for index, atoms in enumerate(guest_restraint_atoms):\n",
    "        if len(atoms) > 2:\n",
    "            angle = True\n",
    "        else:\n",
    "            angle = False\n",
    "        this = DAT_restraint()\n",
    "        this.auto_apr = True\n",
    "        this.amber_index = True\n",
    "        this.topology = structure\n",
    "        this.mask1 = atoms[0]\n",
    "        this.mask2 = atoms[1]\n",
    "        if angle:\n",
    "            this.mask3 = atoms[2]\n",
    "            this.attach[\"fc_final\"] = angle_fc\n",
    "            this.release[\"fc_final\"] = angle_fc\n",
    "        else:\n",
    "            this.attach[\"fc_final\"] = distance_fc\n",
    "            this.release[\"fc_final\"] = angle_fc\n",
    "        this.attach[\"target\"] = guest_restraint_targets[\"initial\"][index]\n",
    "        this.attach[\"fraction_list\"] = attach_fractions\n",
    "\n",
    "        this.pull[\"target_final\"] = guest_restraint_targets[\"final\"][index]\n",
    "        this.pull[\"num_windows\"] = windows[1]\n",
    "        \n",
    "        this.release['target'] = guest_restraint_targets[\"final\"][index]\n",
    "        # Keep the guest restraints on during release.\n",
    "        this.release['fraction_list'] = [1.0] * windows[2]\n",
    "    \n",
    "        print(f\"Applying guest restraint between atoms {atoms}\")\n",
    "        this.initialize()\n",
    "\n",
    "        guest_restraints.append(this)\n",
    "    return guest_restraints\n"
   ]
  },
  {
   "cell_type": "code",
   "execution_count": 110,
   "metadata": {},
   "outputs": [],
   "source": [
    "def setup_conformation_restraints(\n",
    "    template, targets, windows, attach_fractions, structure, resname, fc=6.0\n",
    "):\n",
    "\n",
    "    conformational_restraints = []\n",
    "    host_residues = len(structure[\":{}\".format(resname.upper())].residues)\n",
    "    first_host_residue = structure[\":{}\".format(resname.upper())].residues[0].number + 1\n",
    "\n",
    "    for n in range(first_host_residue, host_residues + first_host_residue):\n",
    "        if n + 1 < host_residues + first_host_residue:\n",
    "            next_residue = n + 1\n",
    "        else:\n",
    "            next_residue = first_host_residue\n",
    "\n",
    "        for (index, atoms), target in zip(enumerate(template), targets):\n",
    "            \n",
    "            conformational_restraint_atoms = []\n",
    "            if index == 0:\n",
    "                conformational_restraint_atoms.append(f\":{n}@{atoms[0]}\")\n",
    "                conformational_restraint_atoms.append(f\":{n}@{atoms[1]}\")\n",
    "                conformational_restraint_atoms.append(f\":{n}@{atoms[2]}\")\n",
    "                conformational_restraint_atoms.append(f\":{next_residue}@{atoms[3]}\")\n",
    "            else:\n",
    "                conformational_restraint_atoms.append(f\":{n}@{atoms[0]}\")\n",
    "                conformational_restraint_atoms.append(f\":{n}@{atoms[1]}\")\n",
    "                conformational_restraint_atoms.append(f\":{next_residue}@{atoms[2]}\")\n",
    "                conformational_restraint_atoms.append(f\":{next_residue}@{atoms[3]}\")\n",
    "\n",
    "            this = DAT_restraint()\n",
    "            this.auto_apr = True\n",
    "            this.amber_index = True\n",
    "            this.topology = structure\n",
    "            this.mask1 = conformational_restraint_atoms[0]\n",
    "            this.mask2 = conformational_restraint_atoms[1]\n",
    "            this.mask3 = conformational_restraint_atoms[2]\n",
    "            this.mask4 = conformational_restraint_atoms[3]\n",
    "\n",
    "            this.attach[\"fraction_list\"] = attach_fractions\n",
    "            this.attach[\"target\"] = target\n",
    "            this.attach[\"fc_final\"] = fc\n",
    "            this.pull[\"target_final\"] = target\n",
    "            this.pull[\"num_windows\"] = windows[1]\n",
    "            \n",
    "            this.release[\"fraction_list\"] = attach_fractions[::-1]\n",
    "            this.release[\"target\"] = target\n",
    "            this.release[\"fc_final\"] = fc\n",
    "\n",
    "            print(f\"Applying guest restraint between atoms {conformational_restraint_atoms}\")\n",
    "            this.initialize()\n",
    "            conformational_restraints.append(this)\n",
    "    return conformational_restraints\n"
   ]
  },
  {
   "cell_type": "code",
   "execution_count": 111,
   "metadata": {},
   "outputs": [],
   "source": [
    "def setup_guest_wall_restraints(template, targets, structure, resname, angle_fc=500.0, distance_fc=50.0):\n",
    "\n",
    "    guest_wall_restraints = []\n",
    "    host_residues = len(structure[\":{}\".format(resname.upper())].residues)\n",
    "    first_host_residue = structure[\":{}\".format(resname.upper())].residues[0].number + 1\n",
    "\n",
    "    for n in range(first_host_residue, host_residues + first_host_residue):\n",
    "\n",
    "        for (index, atoms), target in zip(enumerate(template), targets):\n",
    "            guest_wall_restraint_atoms = []\n",
    "            if index == 0 or index == 1:\n",
    "                guest_wall_restraint_atoms.append(f\":{n}@{atoms[0]}\")\n",
    "                guest_wall_restraint_atoms.append(f\"{atoms[1]}\")\n",
    "                angle = False\n",
    "            else:\n",
    "                guest_wall_restraint_atoms.append(f\"{atoms[0]}\")\n",
    "                guest_wall_restraint_atoms.append(f\"{atoms[1]}\")\n",
    "                guest_wall_restraint_atoms.append(f\"{atoms[2]}\")\n",
    "                angle = True\n",
    "                \n",
    "                \n",
    "            this = DAT_restraint()\n",
    "            this.auto_apr = True\n",
    "            this.amber_index = True\n",
    "            this.topology = structure\n",
    "            this.mask1 = guest_wall_restraint_atoms[0]\n",
    "            this.mask2 = guest_wall_restraint_atoms[1]\n",
    "            if angle:\n",
    "                this.mask3 = guest_wall_restraint_atoms[2]\n",
    "                this.attach[\"fc_initial\"] = angle_fc\n",
    "                this.attach[\"fc_final\"] = angle_fc\n",
    "                this.custom_restraint_values[\"rk2\"] = 500.0\n",
    "                this.custom_restraint_values[\"rk3\"] = 0.0\n",
    "            else:\n",
    "                this.attach[\"fc_initial\"] = distance_fc\n",
    "                this.attach[\"fc_final\"] = distance_fc\n",
    "                this.custom_restraint_values[\"rk2\"] = 50.0\n",
    "                this.custom_restraint_values[\"rk3\"] = 50.0\n",
    "                this.custom_restraint_values[\"r1\"] = 0.0\n",
    "                this.custom_restraint_values[\"r2\"] = 0.0\n",
    "\n",
    "            this.attach[\"target\"] = target\n",
    "            this.attach[\"num_windows\"] = windows[1]\n",
    "\n",
    "            if angle:\n",
    "                print(f\"Applying flat-bottom restraint between 0 and {target}\")\n",
    "            else:\n",
    "                print(f\"Applying flat-bottom restraint between {this.custom_restraint_values['r2']} and {target}\")\n",
    "\n",
    "            this.initialize()\n",
    "            guest_wall_restraints.append(this)\n",
    "    return guest_wall_restraints\n"
   ]
  },
  {
   "cell_type": "code",
   "execution_count": 112,
   "metadata": {},
   "outputs": [
    {
     "name": "stdout",
     "output_type": "stream",
     "text": [
      "There are [15, 46, 15] windows in this attach-pull-release calculation.\n"
     ]
    }
   ],
   "source": [
    "attach_string = \"0.00 0.40 0.80 1.60 2.40 4.00 5.50 8.65 11.80 18.10 24.40 37.00 49.60 74.80 100.00\"\n",
    "attach_fractions = [float(i) / 100 for i in attach_string.split()]\n",
    "\n",
    "pull_string = \"0.00 0.40 0.80 1.20 1.60 2.00 2.40 2.80 3.20 3.60 4.00 4.40 4.80 5.20 5.60 6.00 6.40 6.80 7.20 7.60 8.00 8.40 8.80 9.20 9.60 10.00 10.40 10.80 11.20 11.60 12.00 12.40 12.80 13.20 13.60 14.00 14.40 14.80 15.20 15.60 16.00 16.40 16.80 17.20 17.60 18.00\"\n",
    "pull_distances = [float(i) + 6.00 for i in pull_string.split()]\n",
    "\n",
    "release_fractions = attach_fractions[::-1]\n",
    "\n",
    "windows = [len(attach_fractions), len(pull_distances), len(release_fractions)]\n",
    "print(f\"There are {windows} windows in this attach-pull-release calculation.\")"
   ]
  },
  {
   "cell_type": "code",
   "execution_count": 113,
   "metadata": {},
   "outputs": [
    {
     "name": "stdout",
     "output_type": "stream",
     "text": [
      "Applying static restraint on atoms [':DM1', ':1@O3'] with force constant = 5.0 (units depend on whether this is angle or distane.)\n",
      "Applying static restraint on atoms [':DM2', ':DM1', ':1@O3'] with force constant = 100.0 (units depend on whether this is angle or distane.)\n",
      "Applying static restraint on atoms [':DM1', ':1@O3', ':3@C1'] with force constant = 100.0 (units depend on whether this is angle or distane.)\n",
      "Applying static restraint on atoms [':DM3', ':DM2', ':DM1', ':1@O3'] with force constant = 100.0 (units depend on whether this is angle or distane.)\n",
      "Applying static restraint on atoms [':DM2', ':DM1', ':1@O3', ':3@C1'] with force constant = 100.0 (units depend on whether this is angle or distane.)\n",
      "Applying static restraint on atoms [':DM1', ':1@O3', ':3@C1', ':5@C6'] with force constant = 100.0 (units depend on whether this is angle or distane.)\n"
     ]
    }
   ],
   "source": [
    "static_restraints = setup_static_restraints(\n",
    "    anchor_atoms, windows, structure, distance_fc=5.0, angle_fc=100.0\n",
    ")"
   ]
  },
  {
   "cell_type": "code",
   "execution_count": 114,
   "metadata": {},
   "outputs": [
    {
     "name": "stdout",
     "output_type": "stream",
     "text": [
      "Applying guest restraint between atoms [':DM1', ':7@C1']\n",
      "Applying guest restraint between atoms [':7@O1', ':DM1', ':7@C1']\n",
      "Applying guest restraint between atoms [':DM1', ':7@C1', ':7@O1']\n"
     ]
    }
   ],
   "source": [
    "guest_restraints = setup_guest_restraints(\n",
    "    anchor_atoms,\n",
    "    windows,\n",
    "    structure,\n",
    "    distance_fc=5.0,\n",
    "    angle_fc=100.0,\n",
    "    pull_initial=6.0,\n",
    "    pull_final=24.0,\n",
    ")\n"
   ]
  },
  {
   "cell_type": "code",
   "execution_count": 115,
   "metadata": {},
   "outputs": [],
   "source": [
    "host_conformational_template = [[\"O5\", \"C1\", \"O1\", \"C4\"], [\"C1\", \"O1\", \"C4\", \"C5\"]]\n",
    "host_conformational_targets = [104.30, -108.8]"
   ]
  },
  {
   "cell_type": "code",
   "execution_count": 116,
   "metadata": {},
   "outputs": [
    {
     "name": "stdout",
     "output_type": "stream",
     "text": [
      "Applying guest restraint between atoms [':1@O5', ':1@C1', ':1@O1', ':2@C4']\n",
      "Applying guest restraint between atoms [':1@C1', ':1@O1', ':2@C4', ':2@C5']\n",
      "Applying guest restraint between atoms [':2@O5', ':2@C1', ':2@O1', ':3@C4']\n",
      "Applying guest restraint between atoms [':2@C1', ':2@O1', ':3@C4', ':3@C5']\n",
      "Applying guest restraint between atoms [':3@O5', ':3@C1', ':3@O1', ':4@C4']\n",
      "Applying guest restraint between atoms [':3@C1', ':3@O1', ':4@C4', ':4@C5']\n",
      "Applying guest restraint between atoms [':4@O5', ':4@C1', ':4@O1', ':5@C4']\n",
      "Applying guest restraint between atoms [':4@C1', ':4@O1', ':5@C4', ':5@C5']\n",
      "Applying guest restraint between atoms [':5@O5', ':5@C1', ':5@O1', ':6@C4']\n",
      "Applying guest restraint between atoms [':5@C1', ':5@O1', ':6@C4', ':6@C5']\n",
      "Applying guest restraint between atoms [':6@O5', ':6@C1', ':6@O1', ':1@C4']\n",
      "Applying guest restraint between atoms [':6@C1', ':6@O1', ':1@C4', ':1@C5']\n"
     ]
    }
   ],
   "source": [
    "conformational_restraints = setup_conformation_restraints(\n",
    "    host_conformational_template,\n",
    "    host_conformational_targets,\n",
    "    windows,\n",
    "    attach_fractions,\n",
    "    structure,\n",
    "    resname=\"MGO\",\n",
    "    fc=6.0,\n",
    ")"
   ]
  },
  {
   "cell_type": "code",
   "execution_count": 117,
   "metadata": {},
   "outputs": [],
   "source": [
    "guest_wall_template = [\n",
    "    [\"O2\", anchor_atoms[\"G1\"]],\n",
    "    [\"O6\", anchor_atoms[\"G1\"]],\n",
    "    [anchor_atoms[\"D2\"], anchor_atoms[\"G1\"], anchor_atoms[\"G2\"]],\n",
    "]\n",
    "guest_wall_targets = [11.3, 13.3, 80.0]"
   ]
  },
  {
   "cell_type": "code",
   "execution_count": 118,
   "metadata": {},
   "outputs": [
    {
     "name": "stdout",
     "output_type": "stream",
     "text": [
      "Applying flat-bottom restraint between 0.0 and 11.3\n",
      "Applying flat-bottom restraint between 0.0 and 13.3\n",
      "Applying flat-bottom restraint between 0 and 80.0\n",
      "Applying flat-bottom restraint between 0.0 and 11.3\n",
      "Applying flat-bottom restraint between 0.0 and 13.3\n",
      "Applying flat-bottom restraint between 0 and 80.0\n",
      "Applying flat-bottom restraint between 0.0 and 11.3\n",
      "Applying flat-bottom restraint between 0.0 and 13.3\n",
      "Applying flat-bottom restraint between 0 and 80.0\n",
      "Applying flat-bottom restraint between 0.0 and 11.3\n",
      "Applying flat-bottom restraint between 0.0 and 13.3\n",
      "Applying flat-bottom restraint between 0 and 80.0\n",
      "Applying flat-bottom restraint between 0.0 and 11.3\n",
      "Applying flat-bottom restraint between 0.0 and 13.3\n",
      "Applying flat-bottom restraint between 0 and 80.0\n",
      "Applying flat-bottom restraint between 0.0 and 11.3\n",
      "Applying flat-bottom restraint between 0.0 and 13.3\n",
      "Applying flat-bottom restraint between 0 and 80.0\n"
     ]
    }
   ],
   "source": [
    "guest_wall_restraints = setup_guest_wall_restraints(\n",
    "    guest_wall_template,\n",
    "    guest_wall_targets,\n",
    "    structure,\n",
    "    resname=\"MGO\",\n",
    "    angle_fc=500.0,\n",
    "    distance_fc=50.0,\n",
    ")"
   ]
  },
  {
   "cell_type": "markdown",
   "metadata": {},
   "source": [
    "\n",
    "After the restraints are applied, we create the window list (which checks the the restraints are consistent with themselves) and then create the directories for each umbrella sampling window."
   ]
  },
  {
   "cell_type": "code",
   "execution_count": 119,
   "metadata": {},
   "outputs": [],
   "source": [
    "from paprika.restraints import create_window_list\n",
    "from paprika.restraints import amber_restraint_line\n",
    "from paprika.utils import make_window_dirs"
   ]
  },
  {
   "cell_type": "code",
   "execution_count": 120,
   "metadata": {},
   "outputs": [],
   "source": [
    "window_list = create_window_list(guest_restraints)\n",
    "for window in window_list:\n",
    "    if not os.path.isdir(os.path.join(\"windows\", window)):\n",
    "        print(f'Creating {os.path.join(\"windows\", window)}')\n",
    "        os.makedirs(os.path.join(\"windows\", window))\n"
   ]
  },
  {
   "cell_type": "markdown",
   "metadata": {},
   "source": [
    "Next, we write the restraint information in each window"
   ]
  },
  {
   "cell_type": "code",
   "execution_count": 122,
   "metadata": {},
   "outputs": [],
   "source": [
    "attach_windows = [i for i in window_list if i[0] == \"a\"]\n",
    "pull_windows = [i for i in window_list if i[0] == \"p\"]\n",
    "release_windows = [i for i in window_list if i[0] == \"r\"]\n",
    "    \n",
    "for phase, phase_windows in zip([\"attach\", \"pull\", \"release\"],\n",
    "                                [attach_windows, pull_windows, release_windows]):\n",
    "    \n",
    "    if phase == \"attach\":\n",
    "        restraints = (\n",
    "        static_restraints\n",
    "        + conformational_restraints\n",
    "        + guest_restraints\n",
    "        + guest_wall_restraints\n",
    "        )\n",
    "    else:\n",
    "        restraints = (\n",
    "        static_restraints\n",
    "        + conformational_restraints\n",
    "        + guest_restraints\n",
    "        )\n",
    "\n",
    "    for window in phase_windows:\n",
    "        restraints_file = os.path.join(\"windows\", window, \"disang.rest\")\n",
    "        with open(restraints_file, \"a\") as file:\n",
    "            for restraint in restraints:\n",
    "                string = amber_restraint_line(restraint, phase, int(window[1:]))\n",
    "                if string is not None:\n",
    "                    file.write(string)"
   ]
  },
  {
   "cell_type": "markdown",
   "metadata": {},
   "source": [
    "## Create the structure in each window\n",
    "\n",
    "Attach windows get the starting structure.\n",
    "We translate the guest for the pull windows.\n",
    "Release windows get the final pull structure."
   ]
  },
  {
   "cell_type": "code",
   "execution_count": 136,
   "metadata": {},
   "outputs": [
    {
     "name": "stdout",
     "output_type": "stream",
     "text": [
      "p000: Translating by 0.000000 A...\n",
      "p001: Translating by 0.400000 A...\n",
      "p002: Translating by 0.800000 A...\n",
      "p003: Translating by 1.200000 A...\n",
      "p004: Translating by 1.600000 A...\n",
      "p005: Translating by 2.000000 A...\n",
      "p006: Translating by 2.400000 A...\n",
      "p007: Translating by 2.800000 A...\n",
      "p008: Translating by 3.200000 A...\n",
      "p009: Translating by 3.600000 A...\n",
      "p010: Translating by 4.000000 A...\n",
      "p011: Translating by 4.400000 A...\n",
      "p012: Translating by 4.800000 A...\n",
      "p013: Translating by 5.200000 A...\n",
      "p014: Translating by 5.600000 A...\n",
      "p015: Translating by 6.000000 A...\n",
      "p016: Translating by 6.400000 A...\n",
      "p017: Translating by 6.800000 A...\n",
      "p018: Translating by 7.200000 A...\n",
      "p019: Translating by 7.600000 A...\n",
      "p020: Translating by 8.000000 A...\n",
      "p021: Translating by 8.400000 A...\n",
      "p022: Translating by 8.800000 A...\n",
      "p023: Translating by 9.200000 A...\n",
      "p024: Translating by 9.600000 A...\n",
      "p025: Translating by 10.000000 A...\n",
      "p026: Translating by 10.400000 A...\n",
      "p027: Translating by 10.800000 A...\n",
      "p028: Translating by 11.200000 A...\n",
      "p029: Translating by 11.600000 A...\n",
      "p030: Translating by 12.000000 A...\n",
      "p031: Translating by 12.400000 A...\n",
      "p032: Translating by 12.800000 A...\n",
      "p033: Translating by 13.200000 A...\n",
      "p034: Translating by 13.600000 A...\n",
      "p035: Translating by 14.000000 A...\n",
      "p036: Translating by 14.400000 A...\n",
      "p037: Translating by 14.800000 A...\n",
      "p038: Translating by 15.200000 A...\n",
      "p039: Translating by 15.600000 A...\n",
      "p040: Translating by 16.000000 A...\n",
      "p041: Translating by 16.400000 A...\n",
      "p042: Translating by 16.800000 A...\n",
      "p043: Translating by 17.200000 A...\n",
      "p044: Translating by 17.600000 A...\n",
      "p045: Translating by 18.000000 A...\n"
     ]
    }
   ],
   "source": [
    "for window in attach_windows:\n",
    "    shutil.copy(os.path.join(\"complex\", \"aligned_with_dummy.prmtop\"),\n",
    "                os.path.join(\"windows\", window, \"aligned_with_dummy.prmtop\"))\n",
    "\n",
    "    shutil.copy(os.path.join(\"complex\", \"aligned_with_dummy.rst7\"),\n",
    "            os.path.join(\"windows\", window, \"aligned_with_dummy.rst7\"))\n",
    "    shutil.copy(os.path.join(\"complex\", \"aligned_with_dummy.pdb\"),\n",
    "        os.path.join(\"windows\", window, \"aligned_with_dummy.pdb\"))\n",
    "\n",
    "for window in pull_windows:\n",
    "    structure = pmd.load_file(\"complex/aligned_with_dummy.prmtop\",\n",
    "                             \"complex/aligned_with_dummy.rst7\",\n",
    "                             structure=True)\n",
    "    target_difference = guest_restraints[0].phase['pull']['targets'][int(window[1:])] - \\\n",
    "                        guest_restraints[0].pull['target_initial']\n",
    "\n",
    "    print(f'{window}: Translating by {target_difference:03f} A...')\n",
    "    for atom in structure.atoms:\n",
    "        if atom.residue.name == 'COC':\n",
    "            atom.xz += target_difference\n",
    "            \n",
    "    structure.save(os.path.join(\"windows\", window, \"aligned_with_dummy.rst7\"))\n",
    "    structure.save(os.path.join(\"windows\", window, \"aligned_with_dummy.pdb\"))\n",
    "    shutil.copy(os.path.join(\"complex\", \"aligned_with_dummy.prmtop\"),\n",
    "        os.path.join(\"windows\", window, \"aligned_with_dummy.prmtop\"))\n",
    "\n",
    "\n",
    "for window in release_windows:\n",
    "    shutil.copy(os.path.join(\"windows\", pull_windows[-1], \"aligned_with_dummy.rst7\"),\n",
    "        os.path.join(\"windows\", window, \"aligned_with_dummy.rst7\"))\n",
    "    shutil.copy(os.path.join(\"windows\", pull_windows[-1], \"aligned_with_dummy.pdb\"),\n",
    "        os.path.join(\"windows\", window, \"aligned_with_dummy.pdb\"))\n",
    "    shutil.copy(os.path.join(\"complex\", \"aligned_with_dummy.prmtop\"),\n",
    "            os.path.join(\"windows\", window, \"aligned_with_dummy.prmtop\"))"
   ]
  },
  {
   "cell_type": "markdown",
   "metadata": {},
   "source": [
    "## Solvate in each window\n",
    "\n",
    "This isn't going to work exactly, because of path issues, but the code would be something close to this:\n",
    "\n",
    "```python\n",
    "for window_index, window in enumerate(window_list):\n",
    "\n",
    "    system = System()\n",
    "    system.output_path = os.path.join('windows', window)        \n",
    "\n",
    "    system.target_waters = 2000\n",
    "    system.output_prefix = 'solvated'\n",
    "\n",
    "    system.neutralize = True\n",
    "    system.pbc_type = 'rectangular'\n",
    "    system.add_ions = ['Na+', 4, 'Cl-', 4]\n",
    "    system.template_lines = ['source leaprc.water.tip3p',\n",
    "                           'source leaprc.gaff',\n",
    "                           'loadamberparams .frcmod',\n",
    "                           'HST = loadmol2 hst.mol2',\n",
    "                           'loadamberparams gst.frcmod',\n",
    "                           'GST = loadmol2 gst.mol2',\n",
    "                           'loadamberparams dummy.frcmod',\n",
    "                           'DM1 = loadmol2 dm1.mol2',\n",
    "                           'DM2 = loadmol2 dm2.mol2',\n",
    "                           'DM3 = loadmol2 dm3.mol2',\n",
    "                           'model = loadpdb hg.pdb'\n",
    "    ]\n",
    "\n",
    "    system.build()\n",
    "```"
   ]
  },
  {
   "cell_type": "markdown",
   "metadata": {},
   "source": [
    "## Write a simulation file in each window\n",
    "\n",
    "This isn't going to work, but the code will look something similar to this.\n",
    "\n",
    "```python\n",
    "import os as os\n",
    "import subprocess as sp\n",
    "import shutil as shutil\n",
    "import re as re\n",
    "\n",
    "import paprika as paprika\n",
    "from paprika.amber import Simulation\n",
    "\n",
    "import logging\n",
    "\n",
    "\n",
    "def recenter(prmtop, inpcrd, mask):\n",
    "    trajout = inpcrd.split(\".\")[0] + \"-centered.inpcrd\"\n",
    "    cpptraj = f\"\"\"\n",
    "    parm {prmtop}\n",
    "    trajin {inpcrd}\n",
    "    center {mask} origin\n",
    "    trajout {trajout} restart\n",
    "    \"\"\"\n",
    "    with open(\"center.in\", \"w\") as f:\n",
    "        f.write(cpptraj)\n",
    "    sp.call(\"cpptraj -i center.in > center.out\", shell=True)\n",
    "\n",
    "\n",
    "logging.basicConfig(\n",
    "    filename=\"tscc.log\",\n",
    "    format=\"%(asctime)s %(message)s\",\n",
    "    datefmt=\"%Y-%m-%d %I:%M:%S %p\",\n",
    "    level=logging.DEBUG,\n",
    ")\n",
    "logging.info(\"Started logging...\")\n",
    "logging.info(paprika.__version__)\n",
    "hostname = sp.check_output([\"hostname\"])\n",
    "nvidia_smi = sp.check_output([\"nvidia-smi\"])\n",
    "logging.info(hostname.decode(\"utf-8\"))\n",
    "logging.info(nvidia_smi.decode(\"utf-8\"))\n",
    "\n",
    "nstlim = 500000\n",
    "\n",
    "sim = Simulation()\n",
    "\n",
    "# Minimization\n",
    "sim.executable = \"pmemd.cuda\"\n",
    "sim.topology = \"smirnoff.prmtop\"\n",
    "sim.prefix = \"minimize\"\n",
    "sim.inpcrd = \"smirnoff.inpcrd\"\n",
    "sim.path = \"./\"\n",
    "sim.ref = \"smirnoff.inpcrd\"\n",
    "sim.config_pbc_min()\n",
    "sim.cntrl[\"maxcyc\"] = 500\n",
    "sim.cntrl[\"ncyc\"] = 400\n",
    "sim.cntrl[\"ntr\"] = 1\n",
    "sim.cntrl[\"restraint_wt\"] = 50.0\n",
    "sim.cntrl[\"restraintmask\"] = \"'@Pb'\"\n",
    "sim.cntrl[\"cut\"] = 9.0\n",
    "sim.restraint_file = \"disang.rest\"\n",
    "sim.run(fail_ok=False)\n",
    "\n",
    "# Equilibration\n",
    "sim.config_pbc_md()\n",
    "sim.executable = \"pmemd.cuda\"\n",
    "sim.topology = \"smirnoff.prmtop\"\n",
    "sim.path = \"./\"\n",
    "sim.restraint_file = \"disang.rest\"\n",
    "\n",
    "sim.cntrl[\"nstlim\"] = nstlim\n",
    "sim.cntrl[\"ntwx\"] = 250\n",
    "sim.cntrl[\"ntwr\"] = 250\n",
    "sim.cntrl[\"cut\"] = 9.0\n",
    "\n",
    "iteration = 0\n",
    "sim.prefix = \"equil.{:03d}\".format(iteration)\n",
    "sim.inpcrd = \"minimize.rst7\"\n",
    "sim.ref = \"smirnoff.inpcrd\"\n",
    "\n",
    "while not os.path.isfile(\"equil.rst7\") and iteration < 10:\n",
    "    sim.run(fail_ok=True)\n",
    "    with open(\"equil.{:03d}.out\".format(iteration)) as f:\n",
    "        for line in f.readlines():\n",
    "            if re.search(\" TIMINGS\", line):\n",
    "                shutil.copy(sim.restart, \"equil.rst7\")\n",
    "\n",
    "    recenter(\"smirnoff.prmtop\", \"equil.{:03d}.rst7\", mask=\"@Pb\")\n",
    "    iteration += 1\n",
    "    sim.prefix = \"equil.{:03d}\".format(iteration)\n",
    "    sim.inpcrd = \"equil.{:03d}.rst7\".format(iteration - 1)\n",
    "    sim.ref = \"smirnoff.inpcrd\"\n",
    "\n",
    "\n",
    "recenter(\"smirnoff.prmtop\", \"equil.rst7\", mask=\"@Pb\")\n",
    "recenter(\"smirnoff.prmtop\", \"smirnoff.inpcrd\", mask=\"@Pb\")\n",
    "\n",
    "# Production\n",
    "for iteration in range(0, 10):\n",
    "    sim.executable = \"pmemd.cuda\"\n",
    "    sim.path = \"./\"\n",
    "    sim.topology = \"smirnoff.prmtop\"\n",
    "    sim.restraint_file = \"disang.rest\"\n",
    "    sim.config_pbc_md()\n",
    "\n",
    "    sim.prefix = \"prod.{:03d}\".format(iteration)\n",
    "    if iteration == 0:\n",
    "        sim.inpcrd = \"equil-centered.inpcrd\"\n",
    "    else:\n",
    "        sim.inpcrd = \"prod.{:03d}.rst7\".format(iteration - 1)\n",
    "\n",
    "    sim.ref = \"smirnoff-centered.inpcrd\"\n",
    "    sim.cntrl[\"ntx\"] = 5\n",
    "    sim.cntrl[\"irest\"] = 1\n",
    "    sim.cntrl[\"nstlim\"] = nstlim\n",
    "    sim.cntrl[\"ntwr\"] = nstlim\n",
    "    sim.cntrl[\"ntwx\"] = 250\n",
    "    sim.cntrl[\"ntxo\"] = 2\n",
    "    sim.cntrl[\"cut\"] = 9.0\n",
    "    sim.cntrl[\"iwrap\"] = 0\n",
    "\n",
    "    sim.restraint_file = \"disang.rest\"\n",
    "    sim.run(fail_ok=False)\n",
    "\n",
    "```"
   ]
  },
  {
   "cell_type": "code",
   "execution_count": null,
   "metadata": {},
   "outputs": [],
   "source": []
  }
 ],
 "metadata": {
  "kernelspec": {
   "display_name": "Python [conda env:paprika-tutorial]",
   "language": "python",
   "name": "conda-env-paprika-tutorial-py"
  },
  "language_info": {
   "codemirror_mode": {
    "name": "ipython",
    "version": 3
   },
   "file_extension": ".py",
   "mimetype": "text/x-python",
   "name": "python",
   "nbconvert_exporter": "python",
   "pygments_lexer": "ipython3",
   "version": "3.6.6"
  }
 },
 "nbformat": 4,
 "nbformat_minor": 2
}
